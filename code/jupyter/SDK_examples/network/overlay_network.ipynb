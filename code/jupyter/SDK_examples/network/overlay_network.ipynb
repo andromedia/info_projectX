{
 "cells": [
  {
   "cell_type": "markdown",
   "metadata": {},
   "source": [
    "### Create a private overlay network\n",
    "\n",
    "In this example we will create an overlay network over a number of nodes in the TF Grid.  The nodes and locations can be researched on this explorer site:  http://explorer.grid.tf\n",
    "\n",
    "#### Requirements\n",
    "\n",
    "In order to be able to deploy this example deployment you will have to have the following components activated\n",
    "- the 3bot SDK, in the form of a local container with the SDK, or a grid based SDK container.  Installation instuctions are here <<insert pointer to the linux of macos installation manuea>>\n",
    "- if you use a locally installed container with the 3bot SDK you need to have the wireguard software installed.  Instructions to how to get his installed on your platform can be found [here](https://www.wireguard.com/install/)\n",
    "- capacity reservation are not free so you will need to have some ThreeFold Tokens (TFT) to play around with.\n",
    "\n",
    "After following these install instructions you should en up having a local jumpscale SDK installed.  You can work / connect to the installed SDK as discribed [here](\n",
    "\n",
    "\n",
    "#### 1. Mainnet and Identity\n",
    "First load you identity and make sure you are talking to the production explorer.  This is done by making sure you have set the default explorer to `explorer.grid.tf`.  Also you have to have an indentity set.\n"
   ]
  },
  {
   "cell_type": "code",
   "execution_count": null,
   "metadata": {},
   "outputs": [],
   "source": [
    "# Point the to the mainnet explorer\n",
    "j.clients.threebot.explorer_addr_set('explorer.grid.tf')"
   ]
  },
  {
   "cell_type": "code",
   "execution_count": null,
   "metadata": {},
   "outputs": [],
   "source": [
    "me = j.tools.threebot.me.default"
   ]
  },
  {
   "cell_type": "markdown",
   "metadata": {},
   "source": [
    "```\n",
    "## jumpscale.threebot.me\n",
    "ID: 1\n",
    " - name                : default\n",
    " - tid                 : 0\n",
    " - tname               : me\n",
    " - email               :\n",
    " - pubkey              :\n",
    " - admins              : ['weynandkuijpers.3bot']\n",
    "\n",
    "```"
   ]
  },
  {
   "cell_type": "markdown",
   "metadata": {},
   "source": [
    "#### 2. Load required libraries and create empty reservation structure\n",
    "\n",
    "To be able to made a reservation we need to local the System Abstraction Layer (SAL) and create an empty reservation structure"
   ]
  },
  {
   "cell_type": "code",
   "execution_count": 1,
   "metadata": {},
   "outputs": [
    {
     "name": "stdout",
     "output_type": "stream",
     "text": [
      "bash: zos: command not found\n",
      "bash: syntax error near unexpected token `('\n"
     ]
    },
    {
     "ename": "",
     "evalue": "2",
     "output_type": "error",
     "traceback": []
    }
   ],
   "source": [
    "# load the zero-os System Abstration Layer (SAL)\n",
    "zos = j.sal.zosv2\n",
    "\n",
    "# create empty reservation method\n",
    "r = zos.reservation_create()"
   ]
  },
  {
   "cell_type": "markdown",
   "metadata": {},
   "source": [
    "#### 3. Select overlay network addressing scheme and select nodes\n",
    "\n",
    "In this example we added all the nodes from the salzburg, vienna, lochristi and munich are into one list.  You can shorten that list by selecting smaller sections of that list. For people that do not have IPv6 at home we need have at least one node on the network that has IPv4 access for the wireguard tunnel to terminate.  "
   ]
  },
  {
   "cell_type": "code",
   "execution_count": null,
   "metadata": {},
   "outputs": [],
   "source": [
    "demo_ip_range=\"172.20.0.0/16\"\n",
    "demo_port=8030\n",
    "demo_network_name=\"demo_network_name_01\"\n",
    "\n",
    "\n",
    "\n",
    "# create overlay network definition in datastructure called \"network\"\n",
    "network = zos.network.create(r, ip_range=demo_ip_range, network_name=demo_network_name)\n",
    "\n",
    "nodes_salzburg = zos.nodes_finder.nodes_search(farm_id=12775) # (IPv6 nodes)\n",
    "nodes_vienna_1 = zos.nodes_finder.nodes_search(farm_id=82872) # (IPv6 nodes)\n",
    "nodes_belgium = zos.nodes_finder.nodes_search(farm_id=1) # (IPv4 nodes, to be used as ingress/egress point.  These are not webgatewaysm, just nodes connected to the internet with IPv4 addresses)\n",
    "nodes_munich = zos.nodes_finder.nodes_search(farm_id=50669) #(IPv6 nodes)\n",
    "\n",
    "# nodes_all = nodes_salzburg + nodes_vienna_1 + nodes_belgium + nodes_munich\n",
    "nodes_all = nodes_salzburg + nodes_vienna_1 + nodes_belgium + nodes_munich\n",
    "\n",
    "# make sure to set a new port\n",
    "for i, node in enumerate(nodes_all):\n",
    "    if zos.nodes_finder.filter_is_up(node):\n",
    "        iprange = f\"172.20.{i+10}.0/24\"\n",
    "        zos.network.add_node(network, node.node_id , iprange, wg_port=demo_port)\n",
    "        print(node.node_id, \":\", iprange)\n",
    "    else:\n",
    "        print(\"Node\", node.node_id,\"is not up\")"
   ]
  },
  {
   "cell_type": "markdown",
   "metadata": {},
   "source": [
    "A handy function is available to create a wireguard configuration file to import to you local wireguard setup."
   ]
  },
  {
   "cell_type": "code",
   "execution_count": null,
   "metadata": {},
   "outputs": [],
   "source": [
    "# Enter here the node_id for the node that is the IPv4 bridge to create the wireguard config.\n",
    "wg_config = zos.network.add_access(network, 'CBDY1Fu4CuxGpdU3zLL9QT5DGaRkxjpuJmzV6V5CBWg4', '172.20.100.0/24', ipv4=True)\n",
    "\n",
    "print(\"------------------------\")\n",
    "print(wg_config)\n",
    "print(\"------------------------\")"
   ]
  },
  {
   "cell_type": "markdown",
   "metadata": {},
   "source": [
    "Copy the wireguard configuration to you local host on which the 3bot SDK is running and bring the woreguard interface up.  Instructions to do this are [here](https://www.wireguard.com/quickstart/)"
   ]
  },
  {
   "cell_type": "code",
   "execution_count": null,
   "metadata": {},
   "outputs": [],
   "source": [
    "# Set the duration for the reservation\n",
    "import time\n",
    "\n",
    "# Reservation period set in seconds. PLease adjust, this only allys for the network to exists for 5 seconds.\n",
    "reservation_period=(5*60)\n",
    "expiration = j.data.time.epoch + reservation_period\n",
    "\n",
    "# Register the reservation.  All required data has been loaded in the reservation structrure: e\n",
    "rid = zos.reservation_register(r, expiration, identity=me)"
   ]
  },
  {
   "cell_type": "markdown",
   "metadata": {},
   "source": [
    "The returned number of the reservation number of the network reservation.  To retrieve the actual content of the reservation you can use the following command"
   ]
  },
  {
   "cell_type": "code",
   "execution_count": null,
   "metadata": {},
   "outputs": [],
   "source": [
    "# inspect the result of the reservation provisioning\n",
    "result = zos.reservation_result(rid)\n",
    "\n",
    "print(\"provisioning result\")\n",
    "print(result)"
   ]
  },
  {
   "cell_type": "code",
   "execution_count": null,
   "metadata": {},
   "outputs": [],
   "source": [
    "This will provide you with an overley network"
   ]
  }
 ],
 "metadata": {
  "kernelspec": {
   "display_name": "Bash",
   "language": "bash",
   "name": "bash"
  },
  "language_info": {
   "codemirror_mode": "shell",
   "file_extension": ".sh",
   "mimetype": "text/x-sh",
   "name": "bash"
  }
 },
 "nbformat": 4,
 "nbformat_minor": 4
}
